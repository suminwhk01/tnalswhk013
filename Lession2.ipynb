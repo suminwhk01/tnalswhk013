{
  "nbformat": 4,
  "nbformat_minor": 0,
  "metadata": {
    "colab": {
      "name": "Lession2.ipynb",
      "provenance": [],
      "authorship_tag": "ABX9TyOHtvD0U1gCtbA/XUL7C8XI",
      "include_colab_link": true
    },
    "kernelspec": {
      "name": "python3",
      "display_name": "Python 3"
    },
    "language_info": {
      "name": "python"
    }
  },
  "cells": [
    {
      "cell_type": "markdown",
      "metadata": {
        "id": "view-in-github",
        "colab_type": "text"
      },
      "source": [
        "<a href=\"https://colab.research.google.com/github/suminwhk01/tnalswhk013/blob/main/Lession2.ipynb\" target=\"_parent\"><img src=\"https://colab.research.google.com/assets/colab-badge.svg\" alt=\"Open In Colab\"/></a>"
      ]
    },
    {
      "cell_type": "markdown",
      "source": [
        "* 파이썬 2장\n",
        " * 간단한 계산기 예제\n",
        " * 변수의 input() 함수"
      ],
      "metadata": {
        "id": "uo1FeBbWBzi_"
      }
    },
    {
      "cell_type": "code",
      "source": [
        "num1,num2 = 100,200\n",
        "result1,result2  = num1 + num2,num1 - num2\n",
        "result3,result4  = num1 / num2,num1 * num2\n",
        "print(num1, \"+\", num2 , \"=\", result1)\n",
        "print(num1, \"-\", num2 , \"=\", result2)\n",
        "print(num1, \"/\", num2 , \"=\", result3)\n",
        "print(num1, \"*\", num2 , \"=\", result4)"
      ],
      "metadata": {
        "colab": {
          "base_uri": "https://localhost:8080/"
        },
        "id": "dvypMivdDgGH",
        "outputId": "158c9733-8c4b-4b37-b1dd-02edac25816e"
      },
      "execution_count": 4,
      "outputs": [
        {
          "output_type": "stream",
          "name": "stdout",
          "text": [
            "100 + 200 = 300\n",
            "100 - 200 = -100\n",
            "100 / 200 = 0.5\n",
            "100 * 200 = 20000\n"
          ]
        }
      ]
    },
    {
      "cell_type": "code",
      "source": [
        "num1 = int(input(\"첫번째 숫자 입력 ==>\"));\n",
        "num2 = int(input(\"두번째 숫자 입력 ==>\"));\n",
        "result1 =int(num1) + num2\n",
        "print(num1, \"+\", num2, \"=\", result1)"
      ],
      "metadata": {
        "colab": {
          "base_uri": "https://localhost:8080/"
        },
        "id": "Z2yYZHqEGvyl",
        "outputId": "9e1a3a51-ceee-44dc-ad61-597492d7c073"
      },
      "execution_count": 7,
      "outputs": [
        {
          "output_type": "stream",
          "name": "stdout",
          "text": [
            "첫번째 숫자 입력 ==>10\n",
            "두번째 숫자 입력 ==>20\n",
            "10 + 20 = 30\n"
          ]
        }
      ]
    },
    {
      "cell_type": "code",
      "source": [
        ""
      ],
      "metadata": {
        "id": "TI7C8Ac5IEK3"
      },
      "execution_count": null,
      "outputs": []
    },
    {
      "cell_type": "markdown",
      "source": [
        " * input()함수를 이용한 간단한 계산기\n"
      ],
      "metadata": {
        "id": "uo4GMslhJm7X"
      }
    },
    {
      "cell_type": "code",
      "source": [
        "print(\"** 논술형 문제 - input()함수를 이용한 간단한 계산기 **\")\n",
        "num1 = float(input(\"첫번째 숫자를 입력 : \"))\n",
        "num2 = float(input(\"두번째 숫자를 입력 : \"))\n",
        "print(num1, \"+\", num2 , \"=\", num1 + num2)\n",
        "print(num1, \"-\", num2 , \"=\", num1 - num2)\n",
        "print(num1, \"*\", num2 , \"=\", num1 * num2)\n",
        "print(num1, \"/\", num2 , \"=\", num1 / num2)"
      ],
      "metadata": {
        "colab": {
          "base_uri": "https://localhost:8080/"
        },
        "id": "Tce5ro4wJwRd",
        "outputId": "678a0ea6-abcc-4055-a487-54f6136f04ae"
      },
      "execution_count": 8,
      "outputs": [
        {
          "output_type": "stream",
          "name": "stdout",
          "text": [
            "** 논술형 문제 - input()함수를 이용한 간단한 계산기 **\n",
            "첫번째 숫자를 입력 : 10\n",
            "두번째 숫자를 입력 : 20\n",
            "10.0 + 20.0 = 30.0\n",
            "10.0 - 20.0 = -10.0\n",
            "10.0 * 20.0 = 200.0\n",
            "10.0 / 20.0 = 0.5\n"
          ]
        }
      ]
    }
  ]
}