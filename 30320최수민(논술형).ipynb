{
  "nbformat": 4,
  "nbformat_minor": 0,
  "metadata": {
    "colab": {
      "name": "30320최수민(논술형).ipynb",
      "provenance": [],
      "authorship_tag": "ABX9TyOqR8XFGUxLq7X80xIiOepf",
      "include_colab_link": true
    },
    "kernelspec": {
      "name": "python3",
      "display_name": "Python 3"
    },
    "language_info": {
      "name": "python"
    }
  },
  "cells": [
    {
      "cell_type": "markdown",
      "metadata": {
        "id": "view-in-github",
        "colab_type": "text"
      },
      "source": [
        "<a href=\"https://colab.research.google.com/github/suminwhk01/tnalswhk013/blob/main/30320%EC%B5%9C%EC%88%98%EB%AF%BC(%EB%85%BC%EC%88%A0%ED%98%95).ipynb\" target=\"_parent\"><img src=\"https://colab.research.google.com/assets/colab-badge.svg\" alt=\"Open In Colab\"/></a>"
      ]
    },
    {
      "cell_type": "markdown",
      "source": [
        "컴퓨터과 3학년 3반 20번 최수민"
      ],
      "metadata": {
        "id": "gJKt0Xp0FEWP"
      }
    },
    {
      "cell_type": "code",
      "execution_count": 2,
      "metadata": {
        "colab": {
          "base_uri": "https://localhost:8080/"
        },
        "id": "Z72SYBSXExWo",
        "outputId": "23c62d3a-2ac9-45f6-cbd8-2154c3c8416b"
      },
      "outputs": [
        {
          "output_type": "stream",
          "name": "stdout",
          "text": [
            "100\n",
            "200\n",
            "100 + 200 = 300\n",
            "100 - 200 = -100\n",
            "100 / 200 = 0.5\n",
            "100 * 200 = 20000\n"
          ]
        }
      ],
      "source": [
        "num1 = int(input(\"첫번째 숫자를 입력하시오 :\"))\n",
        "num2 = int(input(\"두번째 숫자를 입력하시오 :\"))\n",
        "result1 = num1 + num2\n",
        "result2 = num1 - num2\n",
        "result3 = num1 * num2\n",
        "result4 = num1 / num2\n",
        "print(num1, \"+\", num2 , \"=\", result1)\n",
        "print(num1, \"-\", num2 , \"=\", result2)\n",
        "print(num1, \"/\", num2 , \"=\", result3)\n",
        "print(num1, \"*\", num2 , \"=\", result4)"
      ]
    }
  ]
}