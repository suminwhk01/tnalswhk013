{
  "nbformat": 4,
  "nbformat_minor": 0,
  "metadata": {
    "colab": {
      "name": "30320최수민(논술형).ipynb",
      "provenance": [],
      "authorship_tag": "ABX9TyMdEL+qlTM9Lv7dt9WfQoyP",
      "include_colab_link": true
    },
    "kernelspec": {
      "name": "python3",
      "display_name": "Python 3"
    },
    "language_info": {
      "name": "python"
    }
  },
  "cells": [
    {
      "cell_type": "markdown",
      "metadata": {
        "id": "view-in-github",
        "colab_type": "text"
      },
      "source": [
        "<a href=\"https://colab.research.google.com/github/suminwhk01/tnalswhk013/blob/main/30320%EC%B5%9C%EC%88%98%EB%AF%BC(%EB%85%BC%EC%88%A0%ED%98%95).ipynb\" target=\"_parent\"><img src=\"https://colab.research.google.com/assets/colab-badge.svg\" alt=\"Open In Colab\"/></a>"
      ]
    },
    {
      "cell_type": "markdown",
      "source": [
        "컴퓨터과 3학년 3반 20번 최수민"
      ],
      "metadata": {
        "id": "gJKt0Xp0FEWP"
      }
    },
    {
      "cell_type": "code",
      "execution_count": 5,
      "metadata": {
        "colab": {
          "base_uri": "https://localhost:8080/"
        },
        "id": "Z72SYBSXExWo",
        "outputId": "6035a111-a1db-47ac-a43c-e42aa8371e82"
      },
      "outputs": [
        {
          "output_type": "stream",
          "name": "stdout",
          "text": [
            "첫번째 숫자를 입력하시오 :100\n",
            "두번째 숫자를 입력하시오 :5\n",
            "100 + 5 = 105\n",
            "100 - 5 = 95\n",
            "100 / 5 = 500\n",
            "100 * 5 = 20.0\n",
            "100 // 5 = 20\n",
            "100 % 5 = 0\n",
            "100 ** 5 = 10000000000\n"
          ]
        }
      ],
      "source": [
        "num1 = int(input(\"첫번째 숫자를 입력하시오 :\"))\n",
        "num2 = int(input(\"두번째 숫자를 입력하시오 :\"))\n",
        "result1 = num1 + num2\n",
        "result2 = num1 - num2\n",
        "result3 = num1 * num2\n",
        "result4 = num1 / num2\n",
        "print(num1, \"+\", num2 , \"=\", result1)\n",
        "print(num1, \"-\", num2 , \"=\", result2)\n",
        "print(num1, \"/\", num2 , \"=\", result3)\n",
        "print(num1, \"*\", num2 , \"=\", result4)\n",
        "result5 = num1 // num2\n",
        "result6 = num1 % num2\n",
        "result7 = num1 ** num2\n",
        "print(num1, \"//\", num2, \"=\", result5)\n",
        "print(num1, \"%\", num2, \"=\", result6)\n",
        "print(num1, \"**\", num2, \"=\", result7)"
      ]
    }
  ]
}