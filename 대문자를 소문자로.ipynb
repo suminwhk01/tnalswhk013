{
  "nbformat": 4,
  "nbformat_minor": 0,
  "metadata": {
    "colab": {
      "name": "Untitled2.ipynb",
      "provenance": [],
      "authorship_tag": "ABX9TyNB49FGswBXr3mHgNh/jrwi",
      "include_colab_link": true
    },
    "kernelspec": {
      "name": "python3",
      "display_name": "Python 3"
    },
    "language_info": {
      "name": "python"
    }
  },
  "cells": [
    {
      "cell_type": "markdown",
      "metadata": {
        "id": "view-in-github",
        "colab_type": "text"
      },
      "source": [
        "<a href=\"https://colab.research.google.com/github/suminwhk01/tnalswhk013/blob/main/%EB%8C%80%EB%AC%B8%EC%9E%90%EB%A5%BC%20%EC%86%8C%EB%AC%B8%EC%9E%90%EB%A1%9C.ipynb\" target=\"_parent\"><img src=\"https://colab.research.google.com/assets/colab-badge.svg\" alt=\"Open In Colab\"/></a>"
      ]
    },
    {
      "cell_type": "markdown",
      "source": [
        "대문자를 소문자로, 소문자를 대문자로 변경하는 프로그램"
      ],
      "metadata": {
        "id": "ULL2f5z8TbVi"
      }
    },
    {
      "cell_type": "code",
      "execution_count": null,
      "metadata": {
        "id": "NDCRzRaeTaJA"
      },
      "outputs": [],
      "source": [
        "text = \"Python\"\n",
        "change_text = text[0],lowor() + text[1],upper() + text(2),upper() + text(4),upper() + text[4],upper() + text(5),upper()\n",
        "print(\"원본 문자열은==>\",text)\n",
        "print(\"변환 문자열은 ==>\",change_text)"
      ]
    }
  ]
}