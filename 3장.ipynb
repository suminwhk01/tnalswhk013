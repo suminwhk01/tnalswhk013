{
  "nbformat": 4,
  "nbformat_minor": 0,
  "metadata": {
    "colab": {
      "name": "3장.ipynb",
      "provenance": [],
      "authorship_tag": "ABX9TyOuEMxPwWpfCZrwZGJ1yJkm",
      "include_colab_link": true
    },
    "kernelspec": {
      "name": "python3",
      "display_name": "Python 3"
    },
    "language_info": {
      "name": "python"
    }
  },
  "cells": [
    {
      "cell_type": "markdown",
      "metadata": {
        "id": "view-in-github",
        "colab_type": "text"
      },
      "source": [
        "<a href=\"https://colab.research.google.com/github/suminwhk01/tnalswhk013/blob/main/3%EC%9E%A5.ipynb\" target=\"_parent\"><img src=\"https://colab.research.google.com/assets/colab-badge.svg\" alt=\"Open In Colab\"/></a>"
      ]
    },
    {
      "cell_type": "markdown",
      "source": [
        "3장 연산자\n",
        "형성평가 파운드를 킬로그램으로 변경"
      ],
      "metadata": {
        "id": "BQVRqdhrzVma"
      }
    },
    {
      "cell_type": "code",
      "execution_count": 5,
      "metadata": {
        "colab": {
          "base_uri": "https://localhost:8080/"
        },
        "id": "Zx_xGuMvvtn1",
        "outputId": "cf0c43e9-71f0-4800-bc35-d58fb79adeaa"
      },
      "outputs": [
        {
          "output_type": "stream",
          "name": "stdout",
          "text": [
            "파운드를 입력하세요. : 15\n",
            "0.453592 파운드(lb)는 0.454 입니다\n"
          ]
        }
      ],
      "source": [
        "pound = input(\"파운드를 입력하세요. : \")\n",
        "kg = pound = 0.453592\n",
        "print(pound,\"파운드(lb)는\",round(kg,3),\"입니다\")"
      ]
    },
    {
      "cell_type": "code",
      "source": [
        "A = float(input(\"파운드를 입력하세요. : \"))\n",
        "print(A,\"파운드(lb)는\",A + 0.453592,\"킬로그램입니다.\")\n",
        "kg =float(input(\"킬로그램을 입력하세요. :\"))\n",
        "print(kg, \"킬로그램은\",kg*2.204623,\"파운드입니다.\")\n"
      ],
      "metadata": {
        "colab": {
          "base_uri": "https://localhost:8080/"
        },
        "id": "lXC9PxsJzlcB",
        "outputId": "7eef239b-5287-41fd-fc7a-992699f6017a"
      },
      "execution_count": 7,
      "outputs": [
        {
          "output_type": "stream",
          "name": "stdout",
          "text": [
            "파운드를 입력하세요. : 15\n",
            "15.0 파운드(lb)는 15.453592 킬로그램입니다.\n",
            "킬로그램을 입력하세요. :15\n",
            "15.0 킬로그램은 33.069345000000006 파운드입니다.\n"
          ]
        }
      ]
    },
    {
      "cell_type": "code",
      "source": [],
      "metadata": {
        "id": "RLUHliQ01p-R"
      },
      "execution_count": null,
      "outputs": []
    }
  ]
}