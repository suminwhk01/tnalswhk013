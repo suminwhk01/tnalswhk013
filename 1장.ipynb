{
  "nbformat": 4,
  "nbformat_minor": 0,
  "metadata": {
    "colab": {
      "name": "1장.ipynb",
      "provenance": [],
      "authorship_tag": "ABX9TyOravxv0MYmxG0c8+yFtfIz",
      "include_colab_link": true
    },
    "kernelspec": {
      "name": "python3",
      "display_name": "Python 3"
    },
    "language_info": {
      "name": "python"
    }
  },
  "cells": [
    {
      "cell_type": "markdown",
      "metadata": {
        "id": "view-in-github",
        "colab_type": "text"
      },
      "source": [
        "<a href=\"https://colab.research.google.com/github/suminwhk01/tnalswhk013/blob/main/1%EC%9E%A5.ipynb\" target=\"_parent\"><img src=\"https://colab.research.google.com/assets/colab-badge.svg\" alt=\"Open In Colab\"/></a>"
      ]
    },
    {
      "cell_type": "code",
      "execution_count": 1,
      "metadata": {
        "colab": {
          "base_uri": "https://localhost:8080/"
        },
        "id": "QKKNOXmPmAlT",
        "outputId": "a0cf3cd9-50da-4a7e-9c5e-ddb9b7539410"
      },
      "outputs": [
        {
          "output_type": "stream",
          "name": "stdout",
          "text": [
            "안산공고 컴퓨터과 3학년 3반 20번 최수민\n"
          ]
        }
      ],
      "source": [
        "print(\"안산공고 컴퓨터과 3학년 3반 20번 최수민\");"
      ]
    },
    {
      "cell_type": "code",
      "source": [
        "print(\"내일은 즐거운 졸업여행\");\n",
        "print(\"준비물 잘 챙기자.);\n",
        "print(\"다치지 말고 재미있게 놀다오자\");"
      ],
      "metadata": {
        "id": "hyE6P8V3pLTH"
      },
      "execution_count": null,
      "outputs": []
    }
  ]
}