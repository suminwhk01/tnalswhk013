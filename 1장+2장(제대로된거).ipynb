{
  "nbformat": 4,
  "nbformat_minor": 0,
  "metadata": {
    "colab": {
      "name": "1장.ipynb",
      "provenance": [],
      "authorship_tag": "ABX9TyOD49P5ZT+urw3vqdwfaATx",
      "include_colab_link": true
    },
    "kernelspec": {
      "name": "python3",
      "display_name": "Python 3"
    },
    "language_info": {
      "name": "python"
    }
  },
  "cells": [
    {
      "cell_type": "markdown",
      "metadata": {
        "id": "view-in-github",
        "colab_type": "text"
      },
      "source": [
        "<a href=\"https://colab.research.google.com/github/suminwhk01/tnalswhk013/blob/main/1%EC%9E%A5%2B2%EC%9E%A5(%EC%A0%9C%EB%8C%80%EB%A1%9C%EB%90%9C%EA%B1%B0).ipynb\" target=\"_parent\"><img src=\"https://colab.research.google.com/assets/colab-badge.svg\" alt=\"Open In Colab\"/></a>"
      ]
    },
    {
      "cell_type": "code",
      "execution_count": 1,
      "metadata": {
        "colab": {
          "base_uri": "https://localhost:8080/"
        },
        "id": "QKKNOXmPmAlT",
        "outputId": "a0cf3cd9-50da-4a7e-9c5e-ddb9b7539410"
      },
      "outputs": [
        {
          "output_type": "stream",
          "name": "stdout",
          "text": [
            "안산공고 컴퓨터과 3학년 3반 20번 최수민\n"
          ]
        }
      ],
      "source": [
        "print(\"안산공고 컴퓨터과 3학년 3반 20번 최수민\");"
      ]
    },
    {
      "cell_type": "code",
      "source": [
        "print(\"내일은 즐거운 졸업여행\");\n",
        "print(\"준비물 잘 챙기자.\");\n",
        "print(\"다치지 말고 재미있게 놀다오자\");"
      ],
      "metadata": {
        "colab": {
          "base_uri": "https://localhost:8080/"
        },
        "id": "hyE6P8V3pLTH",
        "outputId": "912feef5-4902-4b9c-9b6c-122ae5d00c70"
      },
      "execution_count": 3,
      "outputs": [
        {
          "output_type": "stream",
          "name": "stdout",
          "text": [
            "내일은 즐거운 졸업여행\n",
            "준비물 잘 챙기자.\n",
            "다치지 말고 재미있게 놀다오자\n"
          ]
        }
      ]
    },
    {
      "cell_type": "code",
      "source": [
        "a = 100\n",
        "b = 200\n",
        "result = a + b\n",
        "\n",
        "print(a,\"+\",b,\"=\",result)"
      ],
      "metadata": {
        "colab": {
          "base_uri": "https://localhost:8080/"
        },
        "id": "ZyHx-JPAqpEw",
        "outputId": "7ee855e3-f6fa-468f-8f7b-4ef42c7aa659"
      },
      "execution_count": 6,
      "outputs": [
        {
          "output_type": "stream",
          "name": "stdout",
          "text": [
            "100 + 200 = 300\n"
          ]
        }
      ]
    },
    {
      "cell_type": "code",
      "source": [
        "num1 = 100\n",
        "num2 = 200\n",
        "result = num1 * num2\n",
        "\n",
        "print(num1,\"x\",num2,\"=\",result);"
      ],
      "metadata": {
        "colab": {
          "base_uri": "https://localhost:8080/"
        },
        "id": "VPrDwdy3rBlj",
        "outputId": "c8fe1288-4fe6-434b-91a0-ee8017ba1c90"
      },
      "execution_count": 7,
      "outputs": [
        {
          "output_type": "stream",
          "name": "stdout",
          "text": [
            "100 x 200 = 20000\n"
          ]
        }
      ]
    },
    {
      "cell_type": "code",
      "source": [
        "num1 = 100\n",
        "num2 = 200\n",
        "result = num1 / num2\n",
        "\n",
        "print(num1,\"/\",num2,\"=\",result);"
      ],
      "metadata": {
        "colab": {
          "base_uri": "https://localhost:8080/"
        },
        "id": "FQo-3F_QrdP-",
        "outputId": "a7161321-585a-4ed8-8efd-418e4d5e7a43"
      },
      "execution_count": 8,
      "outputs": [
        {
          "output_type": "stream",
          "name": "stdout",
          "text": [
            "100 / 200 = 0.5\n"
          ]
        }
      ]
    },
    {
      "cell_type": "code",
      "source": [
        "num1 = 100\n",
        "num2 = 200\n",
        "result = num1 - num2\n",
        "\n",
        "print(num1,\"-\",num2,\"=\",result);"
      ],
      "metadata": {
        "colab": {
          "base_uri": "https://localhost:8080/"
        },
        "id": "UPbz6xeLrhnN",
        "outputId": "edd2095d-c246-4298-ae2b-2ae60c9d3a4c"
      },
      "execution_count": 9,
      "outputs": [
        {
          "output_type": "stream",
          "name": "stdout",
          "text": [
            "100 - 200 = -100\n"
          ]
        }
      ]
    },
    {
      "cell_type": "code",
      "source": [
        "num1 = 100\n",
        "num2 = 200\n",
        "result = num1 // num2\n",
        "\n",
        "print(num1,\"//\",num2,\"=\",result);"
      ],
      "metadata": {
        "colab": {
          "base_uri": "https://localhost:8080/"
        },
        "id": "-NSQW-_ermH1",
        "outputId": "9820b8a4-76c2-43f6-f989-8a30b837e2db"
      },
      "execution_count": 10,
      "outputs": [
        {
          "output_type": "stream",
          "name": "stdout",
          "text": [
            "100 // 200 = 0\n"
          ]
        }
      ]
    },
    {
      "cell_type": "code",
      "source": [
        "num1 = 1\n",
        "num2 = 2\n",
        "result = num1 % num2\n",
        "\n",
        "print(num1,\"%\",num2,\"=\",result);"
      ],
      "metadata": {
        "colab": {
          "base_uri": "https://localhost:8080/"
        },
        "id": "ZhgnaAdfrp-G",
        "outputId": "5fb1fea6-d10f-4876-9110-1ff3a4dffdd5"
      },
      "execution_count": 12,
      "outputs": [
        {
          "output_type": "stream",
          "name": "stdout",
          "text": [
            "1 % 2 = 1\n"
          ]
        }
      ]
    },
    {
      "cell_type": "code",
      "source": [
        "num1 = 100\n",
        "num2 = 20\n",
        "result = num1 ** num2\n",
        "\n",
        "print(num1,\"xx\",num2,\"=\",result);"
      ],
      "metadata": {
        "colab": {
          "base_uri": "https://localhost:8080/"
        },
        "id": "m8GaPW4vrvB1",
        "outputId": "6ace2b74-5e40-40a4-aa26-8559ee926bc2"
      },
      "execution_count": 14,
      "outputs": [
        {
          "output_type": "stream",
          "name": "stdout",
          "text": [
            "100 xx 20 = 10000000000000000000000000000000000000000\n"
          ]
        }
      ]
    }
  ]
}