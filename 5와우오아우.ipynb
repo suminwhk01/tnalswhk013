{
  "nbformat": 4,
  "nbformat_minor": 0,
  "metadata": {
    "colab": {
      "provenance": [],
      "authorship_tag": "ABX9TyOlf9PZIfQly0+QpsDa7WJh",
      "include_colab_link": true
    },
    "kernelspec": {
      "name": "python3",
      "display_name": "Python 3"
    },
    "language_info": {
      "name": "python"
    }
  },
  "cells": [
    {
      "cell_type": "markdown",
      "metadata": {
        "id": "view-in-github",
        "colab_type": "text"
      },
      "source": [
        "<a href=\"https://colab.research.google.com/github/suminwhk01/tnalswhk013/blob/main/5%EC%99%80%EC%9A%B0%EC%98%A4%EC%95%84%EC%9A%B0.ipynb\" target=\"_parent\"><img src=\"https://colab.research.google.com/assets/colab-badge.svg\" alt=\"Open In Colab\"/></a>"
      ]
    },
    {
      "cell_type": "code",
      "execution_count": 1,
      "metadata": {
        "colab": {
          "base_uri": "https://localhost:8080/"
        },
        "id": "SE5OovwgzYBJ",
        "outputId": "a1ce858f-fee7-4d17-e944-7002c1ceae0d"
      },
      "outputs": [
        {
          "output_type": "stream",
          "name": "stdout",
          "text": [
            "100보다 작습니다.\n"
          ]
        }
      ],
      "source": [
        "num = 99\n",
        "if num < 100 :\n",
        "  print(\"100보다 작습니다.\")"
      ]
    },
    {
      "cell_type": "code",
      "source": [
        "num = 200\n",
        "if num >100 :\n",
        "  print(\"100보다 \")\n",
        "  print(\"큽니다.\")\n",
        "  print(\"프로그램 끝\")"
      ],
      "metadata": {
        "colab": {
          "base_uri": "https://localhost:8080/"
        },
        "id": "rVFWSUDW24_i",
        "outputId": "ed540d9c-c23f-48c1-80b0-9bdfa6db47f0"
      },
      "execution_count": 5,
      "outputs": [
        {
          "output_type": "stream",
          "name": "stdout",
          "text": [
            "100보다 \n",
            "큽니다.\n",
            "프로그램 끝\n"
          ]
        }
      ]
    },
    {
      "cell_type": "code",
      "source": [
        "num = 200\n",
        "if num <100 :\n",
        "  print(\"100보다 작군요.\")\n",
        "else :\n",
        "   print(\"100보다 크군요.\")"
      ],
      "metadata": {
        "colab": {
          "base_uri": "https://localhost:8080/"
        },
        "id": "W6lWo7--3qRK",
        "outputId": "04cbe7be-7055-43b0-fab4-9d1797a6ad6a"
      },
      "execution_count": 8,
      "outputs": [
        {
          "output_type": "stream",
          "name": "stdout",
          "text": [
            "100보다 크군요.\n"
          ]
        }
      ]
    },
    {
      "cell_type": "code",
      "source": [
        "num = int(input(\"정수를 입력하시오. :\"))\n",
        "if (num % 2) == 0 :\n",
        "  print(num,\"짝수입니다.\")\n",
        "else :\n",
        "  print(num,\"홀수입니다.\")"
      ],
      "metadata": {
        "colab": {
          "base_uri": "https://localhost:8080/"
        },
        "id": "K_FTRHEe5BSH",
        "outputId": "a9d74eb3-556d-47d0-ca0d-ae2afa7f83ab"
      },
      "execution_count": 9,
      "outputs": [
        {
          "output_type": "stream",
          "name": "stdout",
          "text": [
            "정수를 입력하시오. :1\n",
            "1 홀수입니다.\n"
          ]
        }
      ]
    },
    {
      "cell_type": "code",
      "source": [
        "num = int(input(\"숫자를 입력 ==>\"))\n",
        "if num > 100 :\n",
        "  if num < 1000 :\n",
        "    print(\"100보다 크고 1000보다 작군요\")\n",
        "  else :\n",
        "    print(\"와~ 1000보다 크군요.\")\n",
        "else :\n",
        "  print(\"음~ 100보다 작군요.\")"
      ],
      "metadata": {
        "colab": {
          "base_uri": "https://localhost:8080/"
        },
        "id": "DD4dLyoD51tr",
        "outputId": "c3df5185-039e-482a-b077-a7bdefafa947"
      },
      "execution_count": 14,
      "outputs": [
        {
          "output_type": "stream",
          "name": "stdout",
          "text": [
            "숫자를 입력 ==>1035\n",
            "와~ 1000보다 크군요.\n"
          ]
        }
      ]
    },
    {
      "cell_type": "code",
      "source": [
        "score = int(input(\"점수를 입력 => \"))\n",
        "if score >= 90 :\n",
        "  print(\"A\",end ='')\n",
        "else :\n",
        "  if score >= 80 :\n",
        "    print(\"B\",end ='')\n",
        "  else :\n",
        "    if score >= 70 :\n",
        "      print(\"C\",end ='')\n",
        "    else :\n",
        "      if score >= 60 :\n",
        "        print(\"D\",end ='')\n",
        "      else :\n",
        "        print(\"F\",end='')\n",
        "print(\"학점입니다.\")"
      ],
      "metadata": {
        "colab": {
          "base_uri": "https://localhost:8080/"
        },
        "id": "jNCdKyJU8GBi",
        "outputId": "f47c7045-3fee-4322-c794-f6d573d18a22"
      },
      "execution_count": 16,
      "outputs": [
        {
          "output_type": "stream",
          "name": "stdout",
          "text": [
            "점수를 입력 => 700\n",
            "A학점입니다.\n"
          ]
        }
      ]
    },
    {
      "cell_type": "code",
      "source": [
        "score = int(input(\"점수를 입력 ==> \"))\n",
        "\n",
        "if score >= 90:\n",
        "    print(\"A학점입니다.\")\n",
        "elif score >= 80:\n",
        "    print(\"B학점입니다.\")\n",
        "elif score >= 70:\n",
        "    print(\"C학점입니다.\")\n",
        "elif score >= 60:\n",
        "    print(\"D학점입니다.\")\n",
        "else:\n",
        "    print(\"F학점입니다.\")"
      ],
      "metadata": {
        "colab": {
          "base_uri": "https://localhost:8080/"
        },
        "id": "C569R2tpBv3f",
        "outputId": "8a22e76e-65cb-4dcf-dc27-97fcaa89e114"
      },
      "execution_count": 17,
      "outputs": [
        {
          "output_type": "stream",
          "name": "stdout",
          "text": [
            "점수를 입력 ==> 80\n",
            "B학점입니다.\n"
          ]
        }
      ]
    },
    {
      "cell_type": "code",
      "source": [
        "import random\n",
        "\n",
        "rnd = random.randint(1, 45)\n",
        "lunch = random.choice([\"짜장면\", \"라면\", \"김밥\", \"짬뽕\"])\n",
        "\n",
        "print(rnd, lunch)"
      ],
      "metadata": {
        "colab": {
          "base_uri": "https://localhost:8080/"
        },
        "id": "n08CpNMleO7P",
        "outputId": "68260af5-bb77-41cf-a937-f03c7e080fb3"
      },
      "execution_count": 19,
      "outputs": [
        {
          "output_type": "stream",
          "name": "stdout",
          "text": [
            "34 라면\n"
          ]
        }
      ]
    },
    {
      "cell_type": "code",
      "source": [
        "import random\n",
        "\n",
        "comPlayer = random.choice([\"가위\", \"바위\", \"보\"])\n",
        "\n",
        "print(\" ** [가위/바위/보] 게임 ** \")\n",
        "\n",
        "rsp = input(\"[가위/바위/보] 입력 ==> \")\n",
        "\n",
        "print(f\"computer    ==>     {comPlayer}\")\n",
        "\n",
        "if (rsp == \"가위\" and comPlayer == \"보\") or (rsp == \"바위\" and comPlayer == \"가위\") or (rsp == \"보\" and comPlayer == \"바위\"):\n",
        "    print(\"이겼다\")\n",
        "elif rsp == comPlayer:\n",
        "    print(\"비겼다\")\n",
        "else:\n",
        "    print(\"졌다\")"
      ],
      "metadata": {
        "colab": {
          "base_uri": "https://localhost:8080/"
        },
        "id": "JALOK9m3eTfv",
        "outputId": "945b52c2-816a-46ce-9d47-922b2e0a4e27"
      },
      "execution_count": 20,
      "outputs": [
        {
          "output_type": "stream",
          "name": "stdout",
          "text": [
            " ** [가위/바위/보] 게임 ** \n",
            "[가위/바위/보] 입력 ==> 보\n",
            "computer    ==>     가위\n",
            "졌다\n"
          ]
        }
      ]
    },
    {
      "cell_type": "code",
      "source": [],
      "metadata": {
        "id": "MALCCjx0eUp3"
      },
      "execution_count": null,
      "outputs": []
    },
    {
      "cell_type": "code",
      "source": [],
      "metadata": {
        "id": "77rG_BNn7ush"
      },
      "execution_count": null,
      "outputs": []
    }
  ]
}