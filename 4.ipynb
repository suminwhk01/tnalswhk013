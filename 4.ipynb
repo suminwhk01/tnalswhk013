{
  "nbformat": 4,
  "nbformat_minor": 0,
  "metadata": {
    "colab": {
      "name": "4.ipynb",
      "provenance": [],
      "authorship_tag": "ABX9TyN6tG+BLioqUPFlBZiPRGWF",
      "include_colab_link": true
    },
    "kernelspec": {
      "name": "python3",
      "display_name": "Python 3"
    },
    "language_info": {
      "name": "python"
    }
  },
  "cells": [
    {
      "cell_type": "markdown",
      "metadata": {
        "id": "view-in-github",
        "colab_type": "text"
      },
      "source": [
        "<a href=\"https://colab.research.google.com/github/suminwhk01/tnalswhk013/blob/main/4.ipynb\" target=\"_parent\"><img src=\"https://colab.research.google.com/assets/colab-badge.svg\" alt=\"Open In Colab\"/></a>"
      ]
    },
    {
      "cell_type": "code",
      "execution_count": 7,
      "metadata": {
        "colab": {
          "base_uri": "https://localhost:8080/"
        },
        "id": "R9TNxYzqv2Hi",
        "outputId": "a3fd178b-75b1-4c1d-aaff-1eb30c946835"
      },
      "outputs": [
        {
          "output_type": "stream",
          "name": "stdout",
          "text": [
            "Let it be 는 총  32 번 나옵니다.\n"
          ]
        }
      ],
      "source": [
        "lyrics = \"\"\" \n",
        "     When I find myself in times of trouble \n",
        "     Mother Mary comes to me Speaking words of wisdom \n",
        "     Let it be And in my hour of darkness She is standing \n",
        "     right in front of me Speaking words of wisdom \n",
        "     Let it be Let is be, let it be Let it be, let it be \n",
        "     Whisper words of wisdom Let it be And when the brokenhearted people \n",
        "     Living in the world agree There will be an answer Let it be \n",
        "     For though they may be parted There is still a chance that \n",
        "     they will see There will be an answer Let it be Let is be, \n",
        "     let it be Let it be, let it be Yeah, there will be an answer \n",
        "     Let it be Let is be, let it be Let it be, let it be \n",
        "     Whisper words of wisdom Let it be Let is be, let it be \n",
        "     Let it be, yeah, let it be Whisper words of wisdom Let it be \n",
        "     And when the night is cloudy There is still a light that \n",
        "     shines on me Shine on 'til tomorrow Let it be \n",
        "     I wake up to the sound of music Mother Mary comes to me \n",
        "     Speaking words of wisdom Let it be, yeah Let it be, let it be \n",
        "     Let it be, yeah, let it be Oh, there will be an answer \n",
        "     Let it be Let it be, let it be Let it be, yeah, let it be \n",
        "     Whisper words of wisdom Let it be\n",
        "     \"\"\"\n",
        "\n",
        "count = lyrics.upper()\n",
        "count = count.count(\"LET IT BE\")\n",
        "print(\"Let it be 는 총 \",count ,\"번 나옵니다.\")"
      ]
    },
    {
      "cell_type": "code",
      "source": [
        "str1 = \"안산공고 컴퓨터과 파이썬 수업\"\n",
        "print(str1[0])\n",
        "print(str1[0:4])\n",
        "print(str1[10:14])\n",
        "print(str1[:14])\n",
        "print(str1[0:])\n",
        "print(str1[-1])"
      ],
      "metadata": {
        "colab": {
          "base_uri": "https://localhost:8080/"
        },
        "id": "iZzKJmYFwtfw",
        "outputId": "b6af4765-3c49-4ce6-d68e-1c0dd6e0f23f"
      },
      "execution_count": 6,
      "outputs": [
        {
          "output_type": "stream",
          "name": "stdout",
          "text": [
            "안\n",
            "안산공고\n",
            "파이썬 \n",
            "안산공고 컴퓨터과 파이썬 \n",
            "안산공고 컴퓨터과 파이썬 수업\n",
            "업\n"
          ]
        }
      ]
    },
    {
      "cell_type": "code",
      "source": [
        "myList =[10, 20, 30, \"안산\", \"공고\", \"배트맨\"]\n",
        "#print(myList)\n",
        "print(myList[3])\n",
        "print(myList[2:4])"
      ],
      "metadata": {
        "colab": {
          "base_uri": "https://localhost:8080/"
        },
        "id": "9HFa1l7R0Clp",
        "outputId": "3d7245a9-e041-434b-ad22-79fcc8765370"
      },
      "execution_count": 4,
      "outputs": [
        {
          "output_type": "stream",
          "name": "stdout",
          "text": [
            "안산\n",
            "[30, '안산']\n"
          ]
        }
      ]
    },
    {
      "cell_type": "code",
      "source": [
        "singer = input(\"가수 이름을 입력 : \")\n",
        "singer_length = len(singer)\n",
        "#print(singer_length)\n",
        "r_singer= \"\"\n",
        "while singer_length > 0 :\n",
        "  r_singer = r_singer + singer[singer_length-1]\n",
        "  singer_length = singer_length -1\n",
        "print(r_singer)"
      ],
      "metadata": {
        "colab": {
          "base_uri": "https://localhost:8080/"
        },
        "id": "-xVmz9ii452a",
        "outputId": "b6a86bc2-3f42-4fde-dd74-5b4b48474f3a"
      },
      "execution_count": 5,
      "outputs": [
        {
          "output_type": "stream",
          "name": "stdout",
          "text": [
            "가수 이름을 입력 : 트와이스\n",
            "스이와트\n"
          ]
        }
      ]
    },
    {
      "cell_type": "code",
      "source": [],
      "metadata": {
        "id": "OkzaNvuQ5AQB"
      },
      "execution_count": null,
      "outputs": []
    }
  ]
}